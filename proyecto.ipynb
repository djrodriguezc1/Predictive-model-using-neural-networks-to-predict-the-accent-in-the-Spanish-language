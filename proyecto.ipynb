{
 "cells": [
  {
   "cell_type": "code",
   "execution_count": 373,
   "id": "6525270d",
   "metadata": {},
   "outputs": [],
   "source": [
    "import librosa\n",
    "import numpy as np\n",
    "import pandas as pd\n",
    "import matplotlib.pyplot as plt # visualizing data\n",
    "import seaborn as sns\n",
    "from sklearn.preprocessing import StandardScaler\n",
    "from sklearn.preprocessing import LabelEncoder\n",
    "from sklearn.model_selection import train_test_split\n",
    "import warnings\n",
    "warnings.filterwarnings('ignore')\n",
    "from sklearn.model_selection import train_test_split\n",
    "import tensorflow as tf\n",
    "import tensorflow\n",
    "from tensorflow import keras\n",
    "from tensorflow.keras.models import Sequential\n",
    "from tensorflow.keras.layers import Dense,Dropout\n",
    "from keras.callbacks import EarlyStopping\n",
    "from keras.models import load_model\n",
    "from sklearn.metrics import confusion_matrix\n",
    "from sklearn.metrics import classification_report\n",
    "from sklearn import metrics"
   ]
  },
  {
   "cell_type": "markdown",
   "id": "5601be51",
   "metadata": {},
   "source": [
    "**Objetivo**\n",
    "\n",
    "Crear un modelo predictivo usando redes neuronales para predecir el acento en el idioma Español usando una grabacion de audio.\n",
    "\n",
    "Los diferentes acentos a predecir son los siguientes:\n",
    "\n",
    "'chileno', 'surpeninsular', 'andino', nan, 'caribe',\n",
    "'nortepeninsular', 'mexicano', 'rioplatense', 'americacentral',\n",
    "'centrosurpeninsular', 'canario', 'filipinas'"
   ]
  },
  {
   "cell_type": "markdown",
   "id": "0b6b87dc",
   "metadata": {},
   "source": [
    "**Biblioteca para extracción de caracteristicas de audio**\n",
    "\n",
    "Librosa es una biblioteca de análisis de audio y música de Python muy útil que ayuda a los desarrolladores de software a crear aplicaciones para trabajar con formatos de archivos de audio y música utilizando Python. https://products.fileformat.com/es/audio/python/librosa/\n",
    "\n",
    "Con esta biblioteca se extraen las características que están relacionadas con la calidad de audio a través de las cuales el modelo aprenderá de manera más efectiva."
   ]
  },
  {
   "cell_type": "markdown",
   "id": "18b1024d",
   "metadata": {},
   "source": [
    "**Plataforma de descarga**\n",
    "\n",
    "\n",
    "La plataforma https://commonvoice.mozilla.org/en/datasets es una iniciativa basada en machine learning para enseñarle a las maquinas a hablar como las personas  y se pueden descargar de forma gratuita set de datos de diferente tamaño. Para el caso de este proyecto se descargó un data set con las siguientes caraceristicas:\n",
    "\n",
    "Idioma Español\n",
    "\n",
    "Version\tCommon Voice Corpus 4 \n",
    "\n",
    "Fecha  1/13/2020\n",
    "\n",
    "Tamaño   5.8 GB\n",
    "\n",
    "horas de grabación\t222\n",
    "\n",
    "horas validadas     168\n",
    "\n",
    "Licencia         CC-0\n",
    "\n",
    "Numero de voces    8,252\n",
    "\n",
    "Formato Audio     MP3\n"
   ]
  },
  {
   "cell_type": "markdown",
   "id": "4197c858",
   "metadata": {},
   "source": [
    "**Carga de datos**"
   ]
  },
  {
   "cell_type": "code",
   "execution_count": 285,
   "id": "84c4ba66",
   "metadata": {},
   "outputs": [],
   "source": [
    "data_train = pd.read_table('train.tsv')\n"
   ]
  },
  {
   "cell_type": "code",
   "execution_count": 286,
   "id": "0f604155",
   "metadata": {},
   "outputs": [
    {
     "data": {
      "text/html": [
       "<div>\n",
       "<style scoped>\n",
       "    .dataframe tbody tr th:only-of-type {\n",
       "        vertical-align: middle;\n",
       "    }\n",
       "\n",
       "    .dataframe tbody tr th {\n",
       "        vertical-align: top;\n",
       "    }\n",
       "\n",
       "    .dataframe thead th {\n",
       "        text-align: right;\n",
       "    }\n",
       "</style>\n",
       "<table border=\"1\" class=\"dataframe\">\n",
       "  <thead>\n",
       "    <tr style=\"text-align: right;\">\n",
       "      <th></th>\n",
       "      <th>client_id</th>\n",
       "      <th>path</th>\n",
       "      <th>sentence</th>\n",
       "      <th>up_votes</th>\n",
       "      <th>down_votes</th>\n",
       "      <th>age</th>\n",
       "      <th>gender</th>\n",
       "      <th>accent</th>\n",
       "    </tr>\n",
       "  </thead>\n",
       "  <tbody>\n",
       "    <tr>\n",
       "      <th>0</th>\n",
       "      <td>434506bc3f04b27f5c2dbd2fdcf3217c1e3f9da1243bc9...</td>\n",
       "      <td>common_voice_es_19742144.mp3</td>\n",
       "      <td>Tras su lanzamiento ha recibido positivas rese...</td>\n",
       "      <td>2</td>\n",
       "      <td>1</td>\n",
       "      <td>thirties</td>\n",
       "      <td>male</td>\n",
       "      <td>chileno</td>\n",
       "    </tr>\n",
       "    <tr>\n",
       "      <th>1</th>\n",
       "      <td>434506bc3f04b27f5c2dbd2fdcf3217c1e3f9da1243bc9...</td>\n",
       "      <td>common_voice_es_19742146.mp3</td>\n",
       "      <td>Las hojas se secan a la sombra, en un lugar ai...</td>\n",
       "      <td>2</td>\n",
       "      <td>1</td>\n",
       "      <td>thirties</td>\n",
       "      <td>male</td>\n",
       "      <td>chileno</td>\n",
       "    </tr>\n",
       "    <tr>\n",
       "      <th>2</th>\n",
       "      <td>434506bc3f04b27f5c2dbd2fdcf3217c1e3f9da1243bc9...</td>\n",
       "      <td>common_voice_es_19742323.mp3</td>\n",
       "      <td>Por este motivo no pudo integrar la selección ...</td>\n",
       "      <td>2</td>\n",
       "      <td>0</td>\n",
       "      <td>thirties</td>\n",
       "      <td>male</td>\n",
       "      <td>chileno</td>\n",
       "    </tr>\n",
       "    <tr>\n",
       "      <th>3</th>\n",
       "      <td>434506bc3f04b27f5c2dbd2fdcf3217c1e3f9da1243bc9...</td>\n",
       "      <td>common_voice_es_19742324.mp3</td>\n",
       "      <td>Es profundo y navegable sin problemas a medio ...</td>\n",
       "      <td>2</td>\n",
       "      <td>0</td>\n",
       "      <td>thirties</td>\n",
       "      <td>male</td>\n",
       "      <td>chileno</td>\n",
       "    </tr>\n",
       "    <tr>\n",
       "      <th>4</th>\n",
       "      <td>434506bc3f04b27f5c2dbd2fdcf3217c1e3f9da1243bc9...</td>\n",
       "      <td>common_voice_es_19742325.mp3</td>\n",
       "      <td>Pretendía recoger la herencia de revistas como...</td>\n",
       "      <td>2</td>\n",
       "      <td>0</td>\n",
       "      <td>thirties</td>\n",
       "      <td>male</td>\n",
       "      <td>chileno</td>\n",
       "    </tr>\n",
       "  </tbody>\n",
       "</table>\n",
       "</div>"
      ],
      "text/plain": [
       "                                           client_id  \\\n",
       "0  434506bc3f04b27f5c2dbd2fdcf3217c1e3f9da1243bc9...   \n",
       "1  434506bc3f04b27f5c2dbd2fdcf3217c1e3f9da1243bc9...   \n",
       "2  434506bc3f04b27f5c2dbd2fdcf3217c1e3f9da1243bc9...   \n",
       "3  434506bc3f04b27f5c2dbd2fdcf3217c1e3f9da1243bc9...   \n",
       "4  434506bc3f04b27f5c2dbd2fdcf3217c1e3f9da1243bc9...   \n",
       "\n",
       "                           path  \\\n",
       "0  common_voice_es_19742144.mp3   \n",
       "1  common_voice_es_19742146.mp3   \n",
       "2  common_voice_es_19742323.mp3   \n",
       "3  common_voice_es_19742324.mp3   \n",
       "4  common_voice_es_19742325.mp3   \n",
       "\n",
       "                                            sentence  up_votes  down_votes  \\\n",
       "0  Tras su lanzamiento ha recibido positivas rese...         2           1   \n",
       "1  Las hojas se secan a la sombra, en un lugar ai...         2           1   \n",
       "2  Por este motivo no pudo integrar la selección ...         2           0   \n",
       "3  Es profundo y navegable sin problemas a medio ...         2           0   \n",
       "4  Pretendía recoger la herencia de revistas como...         2           0   \n",
       "\n",
       "        age gender   accent  \n",
       "0  thirties   male  chileno  \n",
       "1  thirties   male  chileno  \n",
       "2  thirties   male  chileno  \n",
       "3  thirties   male  chileno  \n",
       "4  thirties   male  chileno  "
      ]
     },
     "execution_count": 286,
     "metadata": {},
     "output_type": "execute_result"
    }
   ],
   "source": [
    "data_train.head()"
   ]
  },
  {
   "cell_type": "code",
   "execution_count": 287,
   "id": "f72c0b70",
   "metadata": {},
   "outputs": [
    {
     "data": {
      "text/plain": [
       "(64353, 8)"
      ]
     },
     "execution_count": 287,
     "metadata": {},
     "output_type": "execute_result"
    }
   ],
   "source": [
    "data_train.shape"
   ]
  },
  {
   "cell_type": "markdown",
   "id": "0a87ecf3",
   "metadata": {},
   "source": [
    "**Valores Nulos**"
   ]
  },
  {
   "cell_type": "code",
   "execution_count": 291,
   "id": "afd3e41c",
   "metadata": {},
   "outputs": [
    {
     "name": "stdout",
     "output_type": "stream",
     "text": [
      "age % valores no nulos y nulos\n",
      "False    81.02031\n",
      "True     18.97969\n",
      "Name: age, dtype: float64\n",
      "\n",
      "gender % valores no nulos y nulos\n",
      "False    80.850932\n",
      "True     19.149068\n",
      "Name: gender, dtype: float64\n",
      "\n",
      "accent % valores no nulos y nulos\n",
      "False    69.539882\n",
      "True     30.460118\n",
      "Name: accent, dtype: float64\n",
      "\n",
      "lista de columnas con valores nulos:  ['age', 'gender', 'accent']\n",
      "lista porcentajes con valores nulos:  [18.98, 19.149, 30.46]\n"
     ]
    }
   ],
   "source": [
    "pymesmissed=data_train.isnull()\n",
    "#columnas con valores nulos y su porcentaje\n",
    "columnas_connull=[]\n",
    "# porcentajes por columna de valores nulos\n",
    "porc_valoresnull=[]\n",
    "for column in pymesmissed.columns.values.tolist():\n",
    "    \n",
    "    if ((pymesmissed[column]).value_counts()[0]*100/len(pymesmissed))<100:\n",
    "        columnas_connull.append(column)\n",
    "        porc_valoresnull.append(float(\"{0:.3f}\".format((pymesmissed[column]).value_counts()[1]*100/len(pymesmissed))))\n",
    "        print(column,\"% valores no nulos y nulos\")\n",
    "        print ((pymesmissed[column]).value_counts()*100/len(pymesmissed))\n",
    "        print(\"\")\n",
    "print (\"lista de columnas con valores nulos: \",columnas_connull)\n",
    "\n",
    "print (\"lista porcentajes con valores nulos: \",porc_valoresnull)"
   ]
  },
  {
   "cell_type": "markdown",
   "id": "17ac5325",
   "metadata": {},
   "source": [
    "**Eliminando valores nulos**"
   ]
  },
  {
   "cell_type": "code",
   "execution_count": 292,
   "id": "03c34077",
   "metadata": {},
   "outputs": [],
   "source": [
    "data=data_train.dropna()"
   ]
  },
  {
   "cell_type": "markdown",
   "id": "4e524d6d",
   "metadata": {},
   "source": [
    "**Nuevo tamaño del data set**\n",
    "\n",
    "44445"
   ]
  },
  {
   "cell_type": "code",
   "execution_count": 293,
   "id": "34e8545e",
   "metadata": {},
   "outputs": [
    {
     "data": {
      "text/plain": [
       "(44445, 8)"
      ]
     },
     "execution_count": 293,
     "metadata": {},
     "output_type": "execute_result"
    }
   ],
   "source": [
    "data.shape"
   ]
  },
  {
   "cell_type": "markdown",
   "id": "4dea9527",
   "metadata": {},
   "source": [
    "**Valores unicos**"
   ]
  },
  {
   "cell_type": "code",
   "execution_count": 294,
   "id": "e5381652",
   "metadata": {},
   "outputs": [
    {
     "data": {
      "text/plain": [
       "array(['thirties', 'teens', 'twenties', 'fifties', 'fourties', 'sixties',\n",
       "       'nineties', 'seventies'], dtype=object)"
      ]
     },
     "execution_count": 294,
     "metadata": {},
     "output_type": "execute_result"
    }
   ],
   "source": [
    "data[\"age\"].unique()"
   ]
  },
  {
   "cell_type": "code",
   "execution_count": 295,
   "id": "9b97097c",
   "metadata": {},
   "outputs": [
    {
     "data": {
      "text/plain": [
       "array(['male', 'female', 'other'], dtype=object)"
      ]
     },
     "execution_count": 295,
     "metadata": {},
     "output_type": "execute_result"
    }
   ],
   "source": [
    "data[\"gender\"].unique()"
   ]
  },
  {
   "cell_type": "code",
   "execution_count": 296,
   "id": "013e3ebb",
   "metadata": {},
   "outputs": [
    {
     "data": {
      "text/plain": [
       "array(['chileno', 'surpeninsular', 'andino', 'caribe', 'nortepeninsular',\n",
       "       'mexicano', 'rioplatense', 'americacentral', 'centrosurpeninsular',\n",
       "       'canario', 'filipinas'], dtype=object)"
      ]
     },
     "execution_count": 296,
     "metadata": {},
     "output_type": "execute_result"
    }
   ],
   "source": [
    "data[\"accent\"].unique()"
   ]
  },
  {
   "cell_type": "code",
   "execution_count": 297,
   "id": "a2da8e1b",
   "metadata": {},
   "outputs": [
    {
     "data": {
      "text/html": [
       "<div>\n",
       "<style scoped>\n",
       "    .dataframe tbody tr th:only-of-type {\n",
       "        vertical-align: middle;\n",
       "    }\n",
       "\n",
       "    .dataframe tbody tr th {\n",
       "        vertical-align: top;\n",
       "    }\n",
       "\n",
       "    .dataframe thead th {\n",
       "        text-align: right;\n",
       "    }\n",
       "</style>\n",
       "<table border=\"1\" class=\"dataframe\">\n",
       "  <thead>\n",
       "    <tr style=\"text-align: right;\">\n",
       "      <th></th>\n",
       "      <th>client_id</th>\n",
       "      <th>path</th>\n",
       "      <th>sentence</th>\n",
       "      <th>up_votes</th>\n",
       "      <th>down_votes</th>\n",
       "      <th>age</th>\n",
       "      <th>gender</th>\n",
       "      <th>accent</th>\n",
       "    </tr>\n",
       "  </thead>\n",
       "  <tbody>\n",
       "    <tr>\n",
       "      <th>0</th>\n",
       "      <td>434506bc3f04b27f5c2dbd2fdcf3217c1e3f9da1243bc9...</td>\n",
       "      <td>common_voice_es_19742144.mp3</td>\n",
       "      <td>Tras su lanzamiento ha recibido positivas rese...</td>\n",
       "      <td>2</td>\n",
       "      <td>1</td>\n",
       "      <td>thirties</td>\n",
       "      <td>male</td>\n",
       "      <td>chileno</td>\n",
       "    </tr>\n",
       "    <tr>\n",
       "      <th>1</th>\n",
       "      <td>434506bc3f04b27f5c2dbd2fdcf3217c1e3f9da1243bc9...</td>\n",
       "      <td>common_voice_es_19742146.mp3</td>\n",
       "      <td>Las hojas se secan a la sombra, en un lugar ai...</td>\n",
       "      <td>2</td>\n",
       "      <td>1</td>\n",
       "      <td>thirties</td>\n",
       "      <td>male</td>\n",
       "      <td>chileno</td>\n",
       "    </tr>\n",
       "    <tr>\n",
       "      <th>2</th>\n",
       "      <td>434506bc3f04b27f5c2dbd2fdcf3217c1e3f9da1243bc9...</td>\n",
       "      <td>common_voice_es_19742323.mp3</td>\n",
       "      <td>Por este motivo no pudo integrar la selección ...</td>\n",
       "      <td>2</td>\n",
       "      <td>0</td>\n",
       "      <td>thirties</td>\n",
       "      <td>male</td>\n",
       "      <td>chileno</td>\n",
       "    </tr>\n",
       "    <tr>\n",
       "      <th>3</th>\n",
       "      <td>434506bc3f04b27f5c2dbd2fdcf3217c1e3f9da1243bc9...</td>\n",
       "      <td>common_voice_es_19742324.mp3</td>\n",
       "      <td>Es profundo y navegable sin problemas a medio ...</td>\n",
       "      <td>2</td>\n",
       "      <td>0</td>\n",
       "      <td>thirties</td>\n",
       "      <td>male</td>\n",
       "      <td>chileno</td>\n",
       "    </tr>\n",
       "    <tr>\n",
       "      <th>4</th>\n",
       "      <td>434506bc3f04b27f5c2dbd2fdcf3217c1e3f9da1243bc9...</td>\n",
       "      <td>common_voice_es_19742325.mp3</td>\n",
       "      <td>Pretendía recoger la herencia de revistas como...</td>\n",
       "      <td>2</td>\n",
       "      <td>0</td>\n",
       "      <td>thirties</td>\n",
       "      <td>male</td>\n",
       "      <td>chileno</td>\n",
       "    </tr>\n",
       "  </tbody>\n",
       "</table>\n",
       "</div>"
      ],
      "text/plain": [
       "                                           client_id  \\\n",
       "0  434506bc3f04b27f5c2dbd2fdcf3217c1e3f9da1243bc9...   \n",
       "1  434506bc3f04b27f5c2dbd2fdcf3217c1e3f9da1243bc9...   \n",
       "2  434506bc3f04b27f5c2dbd2fdcf3217c1e3f9da1243bc9...   \n",
       "3  434506bc3f04b27f5c2dbd2fdcf3217c1e3f9da1243bc9...   \n",
       "4  434506bc3f04b27f5c2dbd2fdcf3217c1e3f9da1243bc9...   \n",
       "\n",
       "                           path  \\\n",
       "0  common_voice_es_19742144.mp3   \n",
       "1  common_voice_es_19742146.mp3   \n",
       "2  common_voice_es_19742323.mp3   \n",
       "3  common_voice_es_19742324.mp3   \n",
       "4  common_voice_es_19742325.mp3   \n",
       "\n",
       "                                            sentence  up_votes  down_votes  \\\n",
       "0  Tras su lanzamiento ha recibido positivas rese...         2           1   \n",
       "1  Las hojas se secan a la sombra, en un lugar ai...         2           1   \n",
       "2  Por este motivo no pudo integrar la selección ...         2           0   \n",
       "3  Es profundo y navegable sin problemas a medio ...         2           0   \n",
       "4  Pretendía recoger la herencia de revistas como...         2           0   \n",
       "\n",
       "        age gender   accent  \n",
       "0  thirties   male  chileno  \n",
       "1  thirties   male  chileno  \n",
       "2  thirties   male  chileno  \n",
       "3  thirties   male  chileno  \n",
       "4  thirties   male  chileno  "
      ]
     },
     "execution_count": 297,
     "metadata": {},
     "output_type": "execute_result"
    }
   ],
   "source": [
    "data.head()"
   ]
  },
  {
   "cell_type": "markdown",
   "id": "3a908374",
   "metadata": {},
   "source": [
    "**Visualizacón de la variable género por edades**"
   ]
  },
  {
   "cell_type": "code",
   "execution_count": 298,
   "id": "8e826482",
   "metadata": {},
   "outputs": [
    {
     "data": {
      "image/png": "[encoded data removed]",
      "text/plain": [
       "<Figure size 1500x500 with 1 Axes>"
      ]
     },
     "metadata": {},
     "output_type": "display_data"
    }
   ],
   "source": [
    "\n",
    "\n",
    "sns.countplot(x=\"age\", \n",
    "        hue='gender',\n",
    "        data=data,\n",
    "        order=['teens', 'twenties', 'thirties', 'fourties', 'fifties', 'sixties', 'seventies', 'eighties'])\n",
    "\n",
    "plt.show()\n",
    "\n"
   ]
  },
  {
   "cell_type": "code",
   "execution_count": 300,
   "id": "4b4d3924",
   "metadata": {},
   "outputs": [
    {
     "data": {
      "text/plain": [
       "male      36597\n",
       "female     7195\n",
       "other       653\n",
       "Name: gender, dtype: int64"
      ]
     },
     "execution_count": 300,
     "metadata": {},
     "output_type": "execute_result"
    }
   ],
   "source": [
    "data[\"gender\"].value_counts()"
   ]
  },
  {
   "cell_type": "markdown",
   "id": "5ad9f30e",
   "metadata": {},
   "source": [
    "**Histograma por edades**"
   ]
  },
  {
   "cell_type": "code",
   "execution_count": 12,
   "id": "4ff2f685",
   "metadata": {},
   "outputs": [
    {
     "data": {
      "image/png": "[encoded data removed]",
      "text/plain": [
       "<Figure size 1500x500 with 1 Axes>"
      ]
     },
     "metadata": {},
     "output_type": "display_data"
    }
   ],
   "source": [
    "\n",
    "\n",
    "sns.set(rc={'figure.figsize':(15, 5)})\n",
    "sns.countplot(x=\"age\", \n",
    "        data=data, \n",
    "        order=['teens', 'twenties', 'thirties', 'fourties', 'fifties', 'sixties', 'seventies', 'eighties'])\n",
    "\n",
    "plt.show()\n",
    "\n"
   ]
  },
  {
   "cell_type": "code",
   "execution_count": 301,
   "id": "7b388323",
   "metadata": {},
   "outputs": [
    {
     "data": {
      "text/plain": [
       "twenties     12622\n",
       "sixties       9080\n",
       "thirties      8291\n",
       "fifties       7506\n",
       "fourties      4512\n",
       "teens         2338\n",
       "seventies       54\n",
       "nineties        42\n",
       "Name: age, dtype: int64"
      ]
     },
     "execution_count": 301,
     "metadata": {},
     "output_type": "execute_result"
    }
   ],
   "source": [
    "data[\"age\"].value_counts()"
   ]
  },
  {
   "cell_type": "markdown",
   "id": "fd7ca402",
   "metadata": {},
   "source": [
    "**Visualización de acento por género**"
   ]
  },
  {
   "cell_type": "code",
   "execution_count": 15,
   "id": "2a822544",
   "metadata": {},
   "outputs": [
    {
     "data": {
      "image/png": "[encoded data removed]",
      "text/plain": [
       "<Figure size 1908x500 with 1 Axes>"
      ]
     },
     "metadata": {},
     "output_type": "display_data"
    }
   ],
   "source": [
    "sns.displot(x=\"accent\", \n",
    "        data=data, \n",
    "        hue='gender',\n",
    "        multiple='stack',\n",
    "        height=5, aspect=18/5)\n",
    "\n",
    "plt.show()"
   ]
  },
  {
   "cell_type": "code",
   "execution_count": 303,
   "id": "afd1f72b",
   "metadata": {},
   "outputs": [
    {
     "data": {
      "text/plain": [
       "nortepeninsular        9986\n",
       "surpeninsular          9842\n",
       "rioplatense            5605\n",
       "mexicano               5405\n",
       "andino                 4560\n",
       "centrosurpeninsular    2875\n",
       "americacentral         2535\n",
       "caribe                 2079\n",
       "chileno                1344\n",
       "canario                 188\n",
       "filipinas                26\n",
       "Name: accent, dtype: int64"
      ]
     },
     "execution_count": 303,
     "metadata": {},
     "output_type": "execute_result"
    }
   ],
   "source": [
    "data[\"accent\"].value_counts()"
   ]
  },
  {
   "cell_type": "markdown",
   "id": "ea3c1389",
   "metadata": {},
   "source": [
    "**Modelo para la predicción del acento en el idioma Español**"
   ]
  },
  {
   "cell_type": "markdown",
   "id": "acbce949",
   "metadata": {},
   "source": [
    "Se crea un modelo para predecir el acento en Español, usando las variables path con el nombre del archivo de audio y la variable accent con el acento. Las otras variables no se utilizan para este modelo"
   ]
  },
  {
   "cell_type": "code",
   "execution_count": 305,
   "id": "44e15505",
   "metadata": {},
   "outputs": [],
   "source": [
    "data_accent=data[[\"path\",\"accent\"]]"
   ]
  },
  {
   "cell_type": "code",
   "execution_count": 306,
   "id": "9f82647c",
   "metadata": {},
   "outputs": [
    {
     "data": {
      "text/html": [
       "<div>\n",
       "<style scoped>\n",
       "    .dataframe tbody tr th:only-of-type {\n",
       "        vertical-align: middle;\n",
       "    }\n",
       "\n",
       "    .dataframe tbody tr th {\n",
       "        vertical-align: top;\n",
       "    }\n",
       "\n",
       "    .dataframe thead th {\n",
       "        text-align: right;\n",
       "    }\n",
       "</style>\n",
       "<table border=\"1\" class=\"dataframe\">\n",
       "  <thead>\n",
       "    <tr style=\"text-align: right;\">\n",
       "      <th></th>\n",
       "      <th>path</th>\n",
       "      <th>accent</th>\n",
       "    </tr>\n",
       "  </thead>\n",
       "  <tbody>\n",
       "    <tr>\n",
       "      <th>0</th>\n",
       "      <td>common_voice_es_19742144.mp3</td>\n",
       "      <td>chileno</td>\n",
       "    </tr>\n",
       "    <tr>\n",
       "      <th>1</th>\n",
       "      <td>common_voice_es_19742146.mp3</td>\n",
       "      <td>chileno</td>\n",
       "    </tr>\n",
       "    <tr>\n",
       "      <th>2</th>\n",
       "      <td>common_voice_es_19742323.mp3</td>\n",
       "      <td>chileno</td>\n",
       "    </tr>\n",
       "    <tr>\n",
       "      <th>3</th>\n",
       "      <td>common_voice_es_19742324.mp3</td>\n",
       "      <td>chileno</td>\n",
       "    </tr>\n",
       "    <tr>\n",
       "      <th>4</th>\n",
       "      <td>common_voice_es_19742325.mp3</td>\n",
       "      <td>chileno</td>\n",
       "    </tr>\n",
       "  </tbody>\n",
       "</table>\n",
       "</div>"
      ],
      "text/plain": [
       "                           path   accent\n",
       "0  common_voice_es_19742144.mp3  chileno\n",
       "1  common_voice_es_19742146.mp3  chileno\n",
       "2  common_voice_es_19742323.mp3  chileno\n",
       "3  common_voice_es_19742324.mp3  chileno\n",
       "4  common_voice_es_19742325.mp3  chileno"
      ]
     },
     "execution_count": 306,
     "metadata": {},
     "output_type": "execute_result"
    }
   ],
   "source": [
    "data_accent.head()"
   ]
  },
  {
   "cell_type": "code",
   "execution_count": 307,
   "id": "a5fbfd75",
   "metadata": {},
   "outputs": [
    {
     "data": {
      "text/plain": [
       "(44445, 2)"
      ]
     },
     "execution_count": 307,
     "metadata": {},
     "output_type": "execute_result"
    }
   ],
   "source": [
    "data_accent.shape"
   ]
  },
  {
   "cell_type": "markdown",
   "id": "fd1117a0",
   "metadata": {},
   "source": [
    "**Estracción de las caracteristicas de audio**"
   ]
  },
  {
   "cell_type": "markdown",
   "id": "ecc7ddd9",
   "metadata": {},
   "source": [
    "Extracción de características\n",
    "\n",
    "Las siguientes características están relacionadas con la calidad de audio a través de las cuales el modelo aprenderá de manera más efectiva. \n",
    "\n",
    "Centroide espectral: cada cuadro de un espectrograma de magnitud se normaliza y se trata como una distribución sobre contenedores de frecuencia, de los cuales se extrae la media (centroide) por cuadro.\n",
    "\n",
    "Ancho de banda espectral: calcule el ancho de banda espectral de segundo orden\n",
    "\n",
    "Rolloff espectral: la frecuencia central para un contenedor de espectrograma tal que al menos el porcentaje de balance (0.85 por defecto) de la energía del espectro en este marco está contenido en este contenedor y los contenedores debajo\n",
    "\n",
    "Coeficientes cepstrales de frecuencia Mel (MFCC): un pequeño conjunto de 20 características que describen la forma general de una envolvente espectral"
   ]
  },
  {
   "cell_type": "markdown",
   "id": "0ffcb748",
   "metadata": {},
   "source": [
    "**Ejemplo del nombre de un archivo de audio**"
   ]
  },
  {
   "cell_type": "code",
   "execution_count": 308,
   "id": "bdf7aa97",
   "metadata": {},
   "outputs": [
    {
     "data": {
      "text/plain": [
       "'common_voice_es_19742144.mp3'"
      ]
     },
     "execution_count": 308,
     "metadata": {},
     "output_type": "execute_result"
    }
   ],
   "source": [
    "data_accent.iloc[0]['path']"
   ]
  },
  {
   "cell_type": "markdown",
   "id": "8137dae0",
   "metadata": {},
   "source": [
    "**Función para extraer las frecuencias y nuevas variables de cada audio**"
   ]
  },
  {
   "cell_type": "code",
   "execution_count": 309,
   "id": "4b1c9efb",
   "metadata": {},
   "outputs": [
    {
     "name": "stdout",
     "output_type": "stream",
     "text": [
      "features:  [1753.6846206145137, 1477.20363479064, 3141.1374251568905, -753.67755, 111.529495, -14.891884, 32.386818, 16.976667, 0.48450807, 12.2235565, -13.570015, -9.274376, 4.6638584, -6.9683642, -1.3544341, -0.9845055, -5.4458847, 1.8691795, -6.4992595, -7.157085, 3.7556443, -2.124862, -6.104575]\n"
     ]
    }
   ],
   "source": [
    "# Ruta de los clips de audio en la carpeta clips\n",
    "ruta = \"clips/\"\n",
    "#Funcion para extraer las frecuencias de audio\n",
    "\n",
    "def features_audio(filename, sampling_rate=44445):\n",
    "    path = \"{}{}\".format(ruta, filename)\n",
    "    features = list()\n",
    "    audio, _ = librosa.load(path, sr=sampling_rate)\n",
    "   \n",
    "    spectral_centroid = np.mean(librosa.feature.spectral_centroid(y=audio, sr=sampling_rate))\n",
    "    spectral_bandwidth = np.mean(librosa.feature.spectral_bandwidth(y=audio, sr=sampling_rate))\n",
    "    spectral_rolloff = np.mean(librosa.feature.spectral_rolloff(y=audio, sr=sampling_rate))\n",
    "    \n",
    "    features.append(spectral_centroid)\n",
    "    features.append(spectral_bandwidth)\n",
    "    features.append(spectral_rolloff)\n",
    "    \n",
    "    mfcc = librosa.feature.mfcc(y=audio, sr=sampling_rate)\n",
    "    for el in mfcc:\n",
    "        features.append(np.mean(el))\n",
    "    \n",
    "    return features\n",
    "    \n",
    "        \n",
    "features = features_audio(data_accent.iloc[0]['path'])\n",
    "print(\"features: \", features)"
   ]
  },
  {
   "cell_type": "markdown",
   "id": "01960d68",
   "metadata": {},
   "source": [
    "**Función para crear un dataframe con las nuevas variables**"
   ]
  },
  {
   "cell_type": "code",
   "execution_count": 311,
   "id": "813346fe",
   "metadata": {},
   "outputs": [
    {
     "name": "stdout",
     "output_type": "stream",
     "text": [
      "44443/44444"
     ]
    },
    {
     "data": {
      "text/html": [
       "<div>\n",
       "<style scoped>\n",
       "    .dataframe tbody tr th:only-of-type {\n",
       "        vertical-align: middle;\n",
       "    }\n",
       "\n",
       "    .dataframe tbody tr th {\n",
       "        vertical-align: top;\n",
       "    }\n",
       "\n",
       "    .dataframe thead th {\n",
       "        text-align: right;\n",
       "    }\n",
       "</style>\n",
       "<table border=\"1\" class=\"dataframe\">\n",
       "  <thead>\n",
       "    <tr style=\"text-align: right;\">\n",
       "      <th></th>\n",
       "      <th>spectral_centroid</th>\n",
       "      <th>spectral_bandwidth</th>\n",
       "      <th>spectral_rolloff</th>\n",
       "      <th>mfcc1</th>\n",
       "      <th>mfcc2</th>\n",
       "      <th>mfcc3</th>\n",
       "      <th>mfcc4</th>\n",
       "      <th>mfcc5</th>\n",
       "      <th>mfcc6</th>\n",
       "      <th>mfcc7</th>\n",
       "      <th>...</th>\n",
       "      <th>mfcc12</th>\n",
       "      <th>mfcc13</th>\n",
       "      <th>mfcc14</th>\n",
       "      <th>mfcc15</th>\n",
       "      <th>mfcc16</th>\n",
       "      <th>mfcc17</th>\n",
       "      <th>mfcc18</th>\n",
       "      <th>mfcc19</th>\n",
       "      <th>mfcc20</th>\n",
       "      <th>label</th>\n",
       "    </tr>\n",
       "  </thead>\n",
       "  <tbody>\n",
       "    <tr>\n",
       "      <th>0</th>\n",
       "      <td>1753.684621</td>\n",
       "      <td>1477.203635</td>\n",
       "      <td>3141.137425</td>\n",
       "      <td>-753.677551</td>\n",
       "      <td>111.529495</td>\n",
       "      <td>-14.891884</td>\n",
       "      <td>32.386818</td>\n",
       "      <td>16.976667</td>\n",
       "      <td>0.484508</td>\n",
       "      <td>12.223557</td>\n",
       "      <td>...</td>\n",
       "      <td>-1.354434</td>\n",
       "      <td>-0.984505</td>\n",
       "      <td>-5.445885</td>\n",
       "      <td>1.869179</td>\n",
       "      <td>-6.499259</td>\n",
       "      <td>-7.157085</td>\n",
       "      <td>3.755644</td>\n",
       "      <td>-2.124862</td>\n",
       "      <td>-6.104575</td>\n",
       "      <td>chileno</td>\n",
       "    </tr>\n",
       "    <tr>\n",
       "      <th>1</th>\n",
       "      <td>1608.503231</td>\n",
       "      <td>1350.649179</td>\n",
       "      <td>2840.549025</td>\n",
       "      <td>-751.707947</td>\n",
       "      <td>101.793427</td>\n",
       "      <td>-1.654322</td>\n",
       "      <td>20.827723</td>\n",
       "      <td>7.726812</td>\n",
       "      <td>-0.498046</td>\n",
       "      <td>9.500772</td>\n",
       "      <td>...</td>\n",
       "      <td>-0.941665</td>\n",
       "      <td>1.066927</td>\n",
       "      <td>-4.366856</td>\n",
       "      <td>0.876207</td>\n",
       "      <td>-4.137426</td>\n",
       "      <td>-7.013849</td>\n",
       "      <td>1.518846</td>\n",
       "      <td>-0.651390</td>\n",
       "      <td>-5.665789</td>\n",
       "      <td>chileno</td>\n",
       "    </tr>\n",
       "    <tr>\n",
       "      <th>2</th>\n",
       "      <td>2257.280356</td>\n",
       "      <td>1905.172457</td>\n",
       "      <td>4291.304198</td>\n",
       "      <td>-632.363586</td>\n",
       "      <td>107.227280</td>\n",
       "      <td>-22.854773</td>\n",
       "      <td>23.550463</td>\n",
       "      <td>5.039533</td>\n",
       "      <td>-6.552866</td>\n",
       "      <td>11.901673</td>\n",
       "      <td>...</td>\n",
       "      <td>-0.650442</td>\n",
       "      <td>0.482413</td>\n",
       "      <td>-10.381965</td>\n",
       "      <td>1.791126</td>\n",
       "      <td>-3.914446</td>\n",
       "      <td>-9.117221</td>\n",
       "      <td>6.320590</td>\n",
       "      <td>1.568029</td>\n",
       "      <td>-7.132372</td>\n",
       "      <td>chileno</td>\n",
       "    </tr>\n",
       "    <tr>\n",
       "      <th>3</th>\n",
       "      <td>1993.084625</td>\n",
       "      <td>1706.249178</td>\n",
       "      <td>3610.769938</td>\n",
       "      <td>-566.591248</td>\n",
       "      <td>126.514748</td>\n",
       "      <td>-34.041363</td>\n",
       "      <td>19.838827</td>\n",
       "      <td>3.390831</td>\n",
       "      <td>-4.865060</td>\n",
       "      <td>13.271871</td>\n",
       "      <td>...</td>\n",
       "      <td>-0.460630</td>\n",
       "      <td>2.224522</td>\n",
       "      <td>-11.641500</td>\n",
       "      <td>1.149605</td>\n",
       "      <td>-1.471800</td>\n",
       "      <td>-9.890483</td>\n",
       "      <td>3.342896</td>\n",
       "      <td>1.515601</td>\n",
       "      <td>-6.136133</td>\n",
       "      <td>chileno</td>\n",
       "    </tr>\n",
       "    <tr>\n",
       "      <th>4</th>\n",
       "      <td>1548.633266</td>\n",
       "      <td>1524.461998</td>\n",
       "      <td>2983.847011</td>\n",
       "      <td>-561.211365</td>\n",
       "      <td>133.078033</td>\n",
       "      <td>-17.351246</td>\n",
       "      <td>18.837166</td>\n",
       "      <td>5.071126</td>\n",
       "      <td>-4.677625</td>\n",
       "      <td>12.835022</td>\n",
       "      <td>...</td>\n",
       "      <td>-1.986158</td>\n",
       "      <td>4.246021</td>\n",
       "      <td>-10.774783</td>\n",
       "      <td>-0.847960</td>\n",
       "      <td>-2.847659</td>\n",
       "      <td>-10.007349</td>\n",
       "      <td>3.943109</td>\n",
       "      <td>0.218349</td>\n",
       "      <td>-8.277620</td>\n",
       "      <td>chileno</td>\n",
       "    </tr>\n",
       "  </tbody>\n",
       "</table>\n",
       "<p>5 rows × 24 columns</p>\n",
       "</div>"
      ],
      "text/plain": [
       "   spectral_centroid  spectral_bandwidth  spectral_rolloff       mfcc1  \\\n",
       "0        1753.684621         1477.203635       3141.137425 -753.677551   \n",
       "1        1608.503231         1350.649179       2840.549025 -751.707947   \n",
       "2        2257.280356         1905.172457       4291.304198 -632.363586   \n",
       "3        1993.084625         1706.249178       3610.769938 -566.591248   \n",
       "4        1548.633266         1524.461998       2983.847011 -561.211365   \n",
       "\n",
       "        mfcc2      mfcc3      mfcc4      mfcc5     mfcc6      mfcc7  ...  \\\n",
       "0  111.529495 -14.891884  32.386818  16.976667  0.484508  12.223557  ...   \n",
       "1  101.793427  -1.654322  20.827723   7.726812 -0.498046   9.500772  ...   \n",
       "2  107.227280 -22.854773  23.550463   5.039533 -6.552866  11.901673  ...   \n",
       "3  126.514748 -34.041363  19.838827   3.390831 -4.865060  13.271871  ...   \n",
       "4  133.078033 -17.351246  18.837166   5.071126 -4.677625  12.835022  ...   \n",
       "\n",
       "     mfcc12    mfcc13     mfcc14    mfcc15    mfcc16     mfcc17    mfcc18  \\\n",
       "0 -1.354434 -0.984505  -5.445885  1.869179 -6.499259  -7.157085  3.755644   \n",
       "1 -0.941665  1.066927  -4.366856  0.876207 -4.137426  -7.013849  1.518846   \n",
       "2 -0.650442  0.482413 -10.381965  1.791126 -3.914446  -9.117221  6.320590   \n",
       "3 -0.460630  2.224522 -11.641500  1.149605 -1.471800  -9.890483  3.342896   \n",
       "4 -1.986158  4.246021 -10.774783 -0.847960 -2.847659 -10.007349  3.943109   \n",
       "\n",
       "     mfcc19    mfcc20    label  \n",
       "0 -2.124862 -6.104575  chileno  \n",
       "1 -0.651390 -5.665789  chileno  \n",
       "2  1.568029 -7.132372  chileno  \n",
       "3  1.515601 -6.136133  chileno  \n",
       "4  0.218349 -8.277620  chileno  \n",
       "\n",
       "[5 rows x 24 columns]"
      ]
     },
     "execution_count": 311,
     "metadata": {},
     "output_type": "execute_result"
    }
   ],
   "source": [
    "\n",
    "# funcion para crear un dataframe y el label con la variable accent\n",
    "def create_df_features(orig):\n",
    "    new_rows = list()\n",
    "    tot_rows = len(orig)-1\n",
    "    stop_counter = 44444\n",
    "    \n",
    "    for idx, row in orig.iterrows():\n",
    "        if idx >= stop_counter: break\n",
    "        print(\"\\r\", end=\"\")\n",
    "        print(\"{}/{}\".format(idx, tot_rows), end=\"\", flush=True)\n",
    "        features = features_audio(row['path'])\n",
    "        features.append(row['accent'])\n",
    "        new_rows.append(features)\n",
    "    # Variables de audio nuevas extraidas con la biblioteca librosa para cada audio y la variable label\n",
    "    return pd.DataFrame(new_rows, columns=[\"spectral_centroid\", \"spectral_bandwidth\", \"spectral_rolloff\",\n",
    "                                    \"mfcc1\", \"mfcc2\", \"mfcc3\", \"mfcc4\", \"mfcc5\", \"mfcc6\", \"mfcc7\", \"mfcc8\",\n",
    "                                   \"mfcc9\", \"mfcc10\", \"mfcc11\", \"mfcc12\", \"mfcc13\", \"mfcc14\", \"mfcc15\", \"mfcc16\",\n",
    "                                   \"mfcc17\", \"mfcc18\", \"mfcc19\", \"mfcc20\", \"label\"])\n",
    "\n",
    "df_features = create_df_features(data_accent)\n",
    "df_features.head()"
   ]
  },
  {
   "cell_type": "markdown",
   "id": "35ed4d2a",
   "metadata": {},
   "source": [
    "**Tamaño del nuevo dataframe**\n",
    "\n",
    "28246"
   ]
  },
  {
   "cell_type": "code",
   "execution_count": 312,
   "id": "d4b515c2",
   "metadata": {},
   "outputs": [
    {
     "data": {
      "text/plain": [
       "(28246, 24)"
      ]
     },
     "execution_count": 312,
     "metadata": {},
     "output_type": "execute_result"
    }
   ],
   "source": [
    "df_features.shape"
   ]
  },
  {
   "cell_type": "markdown",
   "id": "88147274",
   "metadata": {},
   "source": [
    "**Tipos de acentos en Español a entrenar**"
   ]
  },
  {
   "cell_type": "code",
   "execution_count": 313,
   "id": "5429cf0c",
   "metadata": {},
   "outputs": [
    {
     "data": {
      "text/plain": [
       "array(['chileno', 'surpeninsular', 'andino', 'caribe', 'nortepeninsular',\n",
       "       'mexicano', 'rioplatense', 'americacentral', 'centrosurpeninsular',\n",
       "       'canario', 'filipinas'], dtype=object)"
      ]
     },
     "execution_count": 313,
     "metadata": {},
     "output_type": "execute_result"
    }
   ],
   "source": [
    "df_features[\"label\"].unique()"
   ]
  },
  {
   "cell_type": "markdown",
   "id": "b59e30ae",
   "metadata": {},
   "source": [
    "**Escalado de las nuevas variables**"
   ]
  },
  {
   "cell_type": "code",
   "execution_count": 314,
   "id": "12955a51",
   "metadata": {},
   "outputs": [],
   "source": [
    "#escalado de las features sin el label\n",
    "\n",
    "def scale_features(data):\n",
    "    scaler = StandardScaler()\n",
    "    scaled_data = scaler.fit_transform(np.array(data.iloc[:, 0:-1], dtype = float))\n",
    "        \n",
    "    return scaled_data, scaler\n",
    "\n",
    "X, scaler = scale_features(df_features)"
   ]
  },
  {
   "cell_type": "markdown",
   "id": "fa7b4ae0",
   "metadata": {},
   "source": [
    "**Label encoder**"
   ]
  },
  {
   "cell_type": "code",
   "execution_count": 321,
   "id": "5b978e33",
   "metadata": {},
   "outputs": [
    {
     "name": "stdout",
     "output_type": "stream",
     "text": [
      "Antes encoding: chileno\n",
      "\n",
      "Despues encoding: 5\n",
      "\n",
      "Classes: ['americacentral' 'andino' 'canario' 'caribe' 'centrosurpeninsular'\n",
      " 'chileno' 'filipinas' 'mexicano' 'nortepeninsular' 'rioplatense'\n",
      " 'surpeninsular']\n"
     ]
    }
   ],
   "source": [
    "\n",
    "def get_labels(data):\n",
    "    labels = data.iloc[:, -1]\n",
    "    encoder = LabelEncoder()\n",
    "    labels = encoder.fit_transform(labels)\n",
    "    return labels, encoder\n",
    "\n",
    "y, encoder = get_labels(df_features)\n",
    "classes = encoder.classes_\n",
    "print(\"Antes encoding:\", df_features.iloc[0].values[-1])\n",
    "print(\"\\nDespues encoding:\", y[0])\n",
    "print(\"\\nClasses:\", classes)"
   ]
  },
  {
   "cell_type": "code",
   "execution_count": 322,
   "id": "551f4ed4",
   "metadata": {},
   "outputs": [
    {
     "data": {
      "text/plain": [
       "28246"
      ]
     },
     "execution_count": 322,
     "metadata": {},
     "output_type": "execute_result"
    }
   ],
   "source": [
    "len(y)"
   ]
  },
  {
   "cell_type": "code",
   "execution_count": 323,
   "id": "9c22e0d5",
   "metadata": {},
   "outputs": [
    {
     "data": {
      "text/plain": [
       "28246"
      ]
     },
     "execution_count": 323,
     "metadata": {},
     "output_type": "execute_result"
    }
   ],
   "source": [
    "len(X)"
   ]
  },
  {
   "cell_type": "code",
   "execution_count": 324,
   "id": "94aadd48",
   "metadata": {},
   "outputs": [
    {
     "data": {
      "text/plain": [
       "11"
      ]
     },
     "execution_count": 324,
     "metadata": {},
     "output_type": "execute_result"
    }
   ],
   "source": [
    "len(classes)"
   ]
  },
  {
   "cell_type": "markdown",
   "id": "beb7cdbb",
   "metadata": {},
   "source": [
    "**División del data set en datos de entrenamiento y test**"
   ]
  },
  {
   "cell_type": "code",
   "execution_count": 325,
   "id": "005877a6",
   "metadata": {},
   "outputs": [
    {
     "data": {
      "text/plain": [
       "((15888, 23), (7062, 23), (5296, 23), 15888, 7062, 5296)"
      ]
     },
     "execution_count": 325,
     "metadata": {},
     "output_type": "execute_result"
    }
   ],
   "source": [
    "#se divide la data en train y test\n",
    "X_train, X_test, y_train, y_test = train_test_split(X, y, test_size=0.25, random_state=123, stratify=y)\n",
    "X_train, X_val, y_train, y_val = train_test_split(X_train, y_train, test_size=0.25, random_state=123)\n",
    "#shapes\n",
    "X_train.shape, X_test.shape, X_val.shape, len(y_train), len(y_test), len(y_val)"
   ]
  },
  {
   "cell_type": "markdown",
   "id": "6adf7946",
   "metadata": {},
   "source": [
    "**Modelo usando redes neuronales**"
   ]
  },
  {
   "cell_type": "markdown",
   "id": "ee098adc",
   "metadata": {},
   "source": [
    "\n",
    "\n",
    "Se evaluaron varios modelos cambiando el numero de neuronas en las diferentes capas con valores de 128, 64, 32 y 512 neuronas llegando al mejor modelo con la siguiente configuración.\n",
    "\n",
    "Tenemos una capa con las 23 variables como variable input y con 23 neuronas y con una función de activación relu, las siguientes 2 capas 512 neuronas y activación relu y usando dropout para evitar sobreajuste, posteriormente otra capa con 256 neuronas y activación relu tambien con un dropout y por ultimo una capa densa con 11 neuronas que genera los 11 acentos en las que se supone que el modelo clasifica las grabaciones de audio y se usa una función de activación softmax"
   ]
  },
  {
   "cell_type": "code",
   "execution_count": 349,
   "id": "1da7b30b",
   "metadata": {},
   "outputs": [],
   "source": [
    "##--construimos el modelo CNN\n",
    "\n",
    "model = Sequential()\n",
    "model.add(Dense(23, input_shape=(23,), activation = 'relu'))\n",
    "model.add(Dropout(0.1))\n",
    "model.add(Dense(512, activation = 'relu'))\n",
    "model.add(Dropout(0.1))  \n",
    "model.add(Dense(512, activation = 'relu'))\n",
    "model.add(Dropout(0.1))\n",
    "model.add(Dense(256, activation = 'relu'))\n",
    "model.add(Dropout(0.1)) \n",
    "model.add(Dense(11, activation = 'softmax'))##<-- numero de categorias a predecir\n",
    "\n",
    "\n",
    "\n"
   ]
  },
  {
   "cell_type": "markdown",
   "id": "6ba246d0",
   "metadata": {},
   "source": [
    "# Compilar el modelo"
   ]
  },
  {
   "cell_type": "code",
   "execution_count": 350,
   "id": "5fddc1c6",
   "metadata": {},
   "outputs": [],
   "source": [
    "# usamoscomo metrica el accuracy\n",
    "model.compile(optimizer='adam',loss='SparseCategoricalCrossentropy',metrics=['acc'])"
   ]
  },
  {
   "cell_type": "code",
   "execution_count": 351,
   "id": "e3cefb85",
   "metadata": {},
   "outputs": [],
   "source": [
    "# usamos early stopping para evitar sobre ajuste\n",
    "early_stop = EarlyStopping(monitor='val_loss', min_delta=0, patience=100, verbose=1, mode='auto')\n"
   ]
  },
  {
   "cell_type": "markdown",
   "id": "b8944cc4",
   "metadata": {},
   "source": [
    "# Ajustar el modelo"
   ]
  },
  {
   "cell_type": "code",
   "execution_count": 352,
   "id": "7aaae78f",
   "metadata": {},
   "outputs": [
    {
     "name": "stdout",
     "output_type": "stream",
     "text": [
      "Epoch 1/100\n",
      "32/32 [==============================] - 1s 11ms/step - loss: 1.9828 - acc: 0.3093 - val_loss: 1.7500 - val_acc: 0.4156\n",
      "Epoch 2/100\n",
      "32/32 [==============================] - 0s 8ms/step - loss: 1.7164 - acc: 0.4138 - val_loss: 1.5656 - val_acc: 0.4783\n",
      "Epoch 3/100\n",
      "32/32 [==============================] - 0s 8ms/step - loss: 1.5895 - acc: 0.4616 - val_loss: 1.4379 - val_acc: 0.5234\n",
      "Epoch 4/100\n",
      "32/32 [==============================] - 0s 8ms/step - loss: 1.4746 - acc: 0.5059 - val_loss: 1.3437 - val_acc: 0.5591\n",
      "Epoch 5/100\n",
      "32/32 [==============================] - 0s 8ms/step - loss: 1.3852 - acc: 0.5373 - val_loss: 1.2529 - val_acc: 0.5954\n",
      "Epoch 6/100\n",
      "32/32 [==============================] - 0s 9ms/step - loss: 1.3160 - acc: 0.5670 - val_loss: 1.1750 - val_acc: 0.6224\n",
      "Epoch 7/100\n",
      "32/32 [==============================] - 0s 9ms/step - loss: 1.2515 - acc: 0.5864 - val_loss: 1.1045 - val_acc: 0.6471\n",
      "Epoch 8/100\n",
      "32/32 [==============================] - 0s 8ms/step - loss: 1.1921 - acc: 0.6074 - val_loss: 1.0490 - val_acc: 0.6613\n",
      "Epoch 9/100\n",
      "32/32 [==============================] - 0s 9ms/step - loss: 1.1434 - acc: 0.6268 - val_loss: 1.0030 - val_acc: 0.6796\n",
      "Epoch 10/100\n",
      "32/32 [==============================] - 0s 8ms/step - loss: 1.1148 - acc: 0.6337 - val_loss: 0.9461 - val_acc: 0.6985\n",
      "Epoch 11/100\n",
      "32/32 [==============================] - 0s 8ms/step - loss: 1.0495 - acc: 0.6550 - val_loss: 0.8961 - val_acc: 0.7119\n",
      "Epoch 12/100\n",
      "32/32 [==============================] - 0s 8ms/step - loss: 1.0249 - acc: 0.6655 - val_loss: 0.8552 - val_acc: 0.7272\n",
      "Epoch 13/100\n",
      "32/32 [==============================] - 0s 8ms/step - loss: 0.9865 - acc: 0.6731 - val_loss: 0.8261 - val_acc: 0.7377\n",
      "Epoch 14/100\n",
      "32/32 [==============================] - 0s 8ms/step - loss: 0.9473 - acc: 0.6918 - val_loss: 0.7866 - val_acc: 0.7491\n",
      "Epoch 15/100\n",
      "32/32 [==============================] - 0s 8ms/step - loss: 0.9285 - acc: 0.6947 - val_loss: 0.7635 - val_acc: 0.7660\n",
      "Epoch 16/100\n",
      "32/32 [==============================] - 0s 8ms/step - loss: 0.9207 - acc: 0.6982 - val_loss: 0.7381 - val_acc: 0.7694\n",
      "Epoch 17/100\n",
      "32/32 [==============================] - 0s 9ms/step - loss: 0.8730 - acc: 0.7141 - val_loss: 0.7050 - val_acc: 0.7764\n",
      "Epoch 18/100\n",
      "32/32 [==============================] - 0s 9ms/step - loss: 0.8521 - acc: 0.7192 - val_loss: 0.6997 - val_acc: 0.7806\n",
      "Epoch 19/100\n",
      "32/32 [==============================] - 0s 8ms/step - loss: 0.8300 - acc: 0.7260 - val_loss: 0.6827 - val_acc: 0.7863\n",
      "Epoch 20/100\n",
      "32/32 [==============================] - 0s 8ms/step - loss: 0.8138 - acc: 0.7322 - val_loss: 0.6478 - val_acc: 0.7989\n",
      "Epoch 21/100\n",
      "32/32 [==============================] - 0s 8ms/step - loss: 0.7847 - acc: 0.7445 - val_loss: 0.6245 - val_acc: 0.7997\n",
      "Epoch 22/100\n",
      "32/32 [==============================] - 0s 9ms/step - loss: 0.7705 - acc: 0.7472 - val_loss: 0.6021 - val_acc: 0.8114\n",
      "Epoch 23/100\n",
      "32/32 [==============================] - 0s 8ms/step - loss: 0.7567 - acc: 0.7508 - val_loss: 0.5944 - val_acc: 0.8155\n",
      "Epoch 24/100\n",
      "32/32 [==============================] - 0s 9ms/step - loss: 0.7228 - acc: 0.7621 - val_loss: 0.5682 - val_acc: 0.8269\n",
      "Epoch 25/100\n",
      "32/32 [==============================] - 0s 9ms/step - loss: 0.7010 - acc: 0.7703 - val_loss: 0.5581 - val_acc: 0.8282\n",
      "Epoch 26/100\n",
      "32/32 [==============================] - 0s 8ms/step - loss: 0.7024 - acc: 0.7676 - val_loss: 0.5466 - val_acc: 0.8321\n",
      "Epoch 27/100\n",
      "32/32 [==============================] - 0s 9ms/step - loss: 0.6724 - acc: 0.7824 - val_loss: 0.5322 - val_acc: 0.8382\n",
      "Epoch 28/100\n",
      "32/32 [==============================] - 0s 8ms/step - loss: 0.6629 - acc: 0.7827 - val_loss: 0.5219 - val_acc: 0.8408\n",
      "Epoch 29/100\n",
      "32/32 [==============================] - 0s 8ms/step - loss: 0.6396 - acc: 0.7908 - val_loss: 0.5093 - val_acc: 0.8416\n",
      "Epoch 30/100\n",
      "32/32 [==============================] - 0s 8ms/step - loss: 0.6575 - acc: 0.7880 - val_loss: 0.5063 - val_acc: 0.8448\n",
      "Epoch 31/100\n",
      "32/32 [==============================] - 0s 8ms/step - loss: 0.6366 - acc: 0.7908 - val_loss: 0.4950 - val_acc: 0.8452\n",
      "Epoch 32/100\n",
      "32/32 [==============================] - 0s 8ms/step - loss: 0.6246 - acc: 0.7961 - val_loss: 0.4920 - val_acc: 0.8465\n",
      "Epoch 33/100\n",
      "32/32 [==============================] - 0s 9ms/step - loss: 0.5897 - acc: 0.8060 - val_loss: 0.4726 - val_acc: 0.8537\n",
      "Epoch 34/100\n",
      "32/32 [==============================] - 0s 8ms/step - loss: 0.5971 - acc: 0.8047 - val_loss: 0.4672 - val_acc: 0.8563\n",
      "Epoch 35/100\n",
      "32/32 [==============================] - 0s 9ms/step - loss: 0.5865 - acc: 0.8092 - val_loss: 0.4650 - val_acc: 0.8567\n",
      "Epoch 36/100\n",
      "32/32 [==============================] - 0s 8ms/step - loss: 0.5812 - acc: 0.8116 - val_loss: 0.4607 - val_acc: 0.8529\n",
      "Epoch 37/100\n",
      "32/32 [==============================] - 0s 9ms/step - loss: 0.5804 - acc: 0.8107 - val_loss: 0.4343 - val_acc: 0.8627\n",
      "Epoch 38/100\n",
      "32/32 [==============================] - 0s 8ms/step - loss: 0.5750 - acc: 0.8119 - val_loss: 0.4463 - val_acc: 0.8597\n",
      "Epoch 39/100\n",
      "32/32 [==============================] - 0s 9ms/step - loss: 0.5370 - acc: 0.8280 - val_loss: 0.4274 - val_acc: 0.8665\n",
      "Epoch 40/100\n",
      "32/32 [==============================] - 0s 9ms/step - loss: 0.5340 - acc: 0.8258 - val_loss: 0.4327 - val_acc: 0.8663\n",
      "Epoch 41/100\n",
      "32/32 [==============================] - 0s 9ms/step - loss: 0.5257 - acc: 0.8270 - val_loss: 0.4285 - val_acc: 0.8671\n",
      "Epoch 42/100\n",
      "32/32 [==============================] - 0s 9ms/step - loss: 0.5315 - acc: 0.8281 - val_loss: 0.4223 - val_acc: 0.8699\n",
      "Epoch 43/100\n",
      "32/32 [==============================] - 0s 8ms/step - loss: 0.5186 - acc: 0.8302 - val_loss: 0.4133 - val_acc: 0.8741\n",
      "Epoch 44/100\n",
      "32/32 [==============================] - 0s 9ms/step - loss: 0.5258 - acc: 0.8314 - val_loss: 0.4156 - val_acc: 0.8697\n",
      "Epoch 45/100\n",
      "32/32 [==============================] - 0s 9ms/step - loss: 0.5124 - acc: 0.8295 - val_loss: 0.4032 - val_acc: 0.8712\n",
      "Epoch 46/100\n",
      "32/32 [==============================] - 0s 9ms/step - loss: 0.4933 - acc: 0.8376 - val_loss: 0.3977 - val_acc: 0.8758\n",
      "Epoch 47/100\n",
      "32/32 [==============================] - 0s 9ms/step - loss: 0.4890 - acc: 0.8406 - val_loss: 0.4028 - val_acc: 0.8814\n",
      "Epoch 48/100\n",
      "32/32 [==============================] - 0s 9ms/step - loss: 0.5075 - acc: 0.8352 - val_loss: 0.3921 - val_acc: 0.8799\n",
      "Epoch 49/100\n",
      "32/32 [==============================] - 0s 8ms/step - loss: 0.4831 - acc: 0.8419 - val_loss: 0.3963 - val_acc: 0.8758\n",
      "Epoch 50/100\n",
      "32/32 [==============================] - 0s 9ms/step - loss: 0.4661 - acc: 0.8496 - val_loss: 0.3869 - val_acc: 0.8812\n",
      "Epoch 51/100\n",
      "32/32 [==============================] - 0s 9ms/step - loss: 0.4688 - acc: 0.8483 - val_loss: 0.3826 - val_acc: 0.8776\n",
      "Epoch 52/100\n",
      "32/32 [==============================] - 0s 9ms/step - loss: 0.4660 - acc: 0.8525 - val_loss: 0.3743 - val_acc: 0.8846\n",
      "Epoch 53/100\n",
      "32/32 [==============================] - 0s 9ms/step - loss: 0.4504 - acc: 0.8540 - val_loss: 0.3724 - val_acc: 0.8865\n",
      "Epoch 54/100\n",
      "32/32 [==============================] - 0s 8ms/step - loss: 0.4533 - acc: 0.8554 - val_loss: 0.3821 - val_acc: 0.8809\n",
      "Epoch 55/100\n",
      "32/32 [==============================] - 0s 8ms/step - loss: 0.4479 - acc: 0.8592 - val_loss: 0.3742 - val_acc: 0.8844\n",
      "Epoch 56/100\n",
      "32/32 [==============================] - 0s 9ms/step - loss: 0.4449 - acc: 0.8566 - val_loss: 0.3703 - val_acc: 0.8860\n",
      "Epoch 57/100\n",
      "32/32 [==============================] - 0s 9ms/step - loss: 0.4395 - acc: 0.8564 - val_loss: 0.3758 - val_acc: 0.8852\n",
      "Epoch 58/100\n",
      "32/32 [==============================] - 0s 8ms/step - loss: 0.4247 - acc: 0.8630 - val_loss: 0.3683 - val_acc: 0.8858\n",
      "Epoch 59/100\n",
      "32/32 [==============================] - 0s 9ms/step - loss: 0.4270 - acc: 0.8628 - val_loss: 0.3608 - val_acc: 0.8905\n",
      "Epoch 60/100\n",
      "32/32 [==============================] - 0s 9ms/step - loss: 0.4202 - acc: 0.8644 - val_loss: 0.3630 - val_acc: 0.8931\n",
      "Epoch 61/100\n",
      "32/32 [==============================] - 0s 9ms/step - loss: 0.4130 - acc: 0.8683 - val_loss: 0.3579 - val_acc: 0.8909\n",
      "Epoch 62/100\n",
      "32/32 [==============================] - 0s 9ms/step - loss: 0.4114 - acc: 0.8671 - val_loss: 0.3586 - val_acc: 0.8901\n",
      "Epoch 63/100\n",
      "32/32 [==============================] - 0s 9ms/step - loss: 0.4162 - acc: 0.8669 - val_loss: 0.3624 - val_acc: 0.8882\n",
      "Epoch 64/100\n",
      "32/32 [==============================] - 0s 9ms/step - loss: 0.4176 - acc: 0.8657 - val_loss: 0.3550 - val_acc: 0.8944\n",
      "Epoch 65/100\n",
      "32/32 [==============================] - 0s 9ms/step - loss: 0.4108 - acc: 0.8697 - val_loss: 0.3563 - val_acc: 0.8926\n",
      "Epoch 66/100\n",
      "32/32 [==============================] - 0s 9ms/step - loss: 0.4010 - acc: 0.8713 - val_loss: 0.3501 - val_acc: 0.8922\n",
      "Epoch 67/100\n",
      "32/32 [==============================] - 0s 9ms/step - loss: 0.3959 - acc: 0.8717 - val_loss: 0.3563 - val_acc: 0.8944\n",
      "Epoch 68/100\n",
      "32/32 [==============================] - 0s 9ms/step - loss: 0.4073 - acc: 0.8686 - val_loss: 0.3478 - val_acc: 0.8916\n",
      "Epoch 69/100\n",
      "32/32 [==============================] - 0s 9ms/step - loss: 0.3904 - acc: 0.8733 - val_loss: 0.3444 - val_acc: 0.8954\n",
      "Epoch 70/100\n",
      "32/32 [==============================] - 0s 9ms/step - loss: 0.3890 - acc: 0.8776 - val_loss: 0.3481 - val_acc: 0.8946\n",
      "Epoch 71/100\n",
      "32/32 [==============================] - 0s 9ms/step - loss: 0.3780 - acc: 0.8759 - val_loss: 0.3443 - val_acc: 0.8943\n",
      "Epoch 72/100\n",
      "32/32 [==============================] - 0s 10ms/step - loss: 0.3840 - acc: 0.8759 - val_loss: 0.3368 - val_acc: 0.8997\n",
      "Epoch 73/100\n",
      "32/32 [==============================] - 0s 9ms/step - loss: 0.3643 - acc: 0.8833 - val_loss: 0.3319 - val_acc: 0.8977\n",
      "Epoch 74/100\n",
      "32/32 [==============================] - 0s 9ms/step - loss: 0.3824 - acc: 0.8776 - val_loss: 0.3367 - val_acc: 0.8954\n",
      "Epoch 75/100\n",
      "32/32 [==============================] - 0s 9ms/step - loss: 0.3661 - acc: 0.8812 - val_loss: 0.3330 - val_acc: 0.8946\n",
      "Epoch 76/100\n",
      "32/32 [==============================] - 0s 9ms/step - loss: 0.3646 - acc: 0.8829 - val_loss: 0.3360 - val_acc: 0.8992\n",
      "Epoch 77/100\n",
      "32/32 [==============================] - 0s 9ms/step - loss: 0.3598 - acc: 0.8817 - val_loss: 0.3284 - val_acc: 0.8982\n",
      "Epoch 78/100\n",
      "32/32 [==============================] - 0s 9ms/step - loss: 0.3678 - acc: 0.8807 - val_loss: 0.3385 - val_acc: 0.8971\n",
      "Epoch 79/100\n",
      "32/32 [==============================] - 0s 8ms/step - loss: 0.3558 - acc: 0.8846 - val_loss: 0.3329 - val_acc: 0.8984\n",
      "Epoch 80/100\n",
      "32/32 [==============================] - 0s 9ms/step - loss: 0.3472 - acc: 0.8890 - val_loss: 0.3312 - val_acc: 0.9022\n",
      "Epoch 81/100\n",
      "32/32 [==============================] - 0s 9ms/step - loss: 0.3573 - acc: 0.8869 - val_loss: 0.3309 - val_acc: 0.8984\n",
      "Epoch 82/100\n",
      "32/32 [==============================] - 0s 10ms/step - loss: 0.3512 - acc: 0.8897 - val_loss: 0.3327 - val_acc: 0.8960\n",
      "Epoch 83/100\n",
      "32/32 [==============================] - 0s 9ms/step - loss: 0.3760 - acc: 0.8769 - val_loss: 0.3288 - val_acc: 0.8986\n",
      "Epoch 84/100\n",
      "32/32 [==============================] - 0s 9ms/step - loss: 0.3572 - acc: 0.8829 - val_loss: 0.3304 - val_acc: 0.8992\n",
      "Epoch 85/100\n",
      "32/32 [==============================] - 0s 9ms/step - loss: 0.3549 - acc: 0.8899 - val_loss: 0.3202 - val_acc: 0.9003\n",
      "Epoch 86/100\n",
      "32/32 [==============================] - 0s 9ms/step - loss: 0.3510 - acc: 0.8898 - val_loss: 0.3250 - val_acc: 0.8975\n",
      "Epoch 87/100\n",
      "32/32 [==============================] - 0s 9ms/step - loss: 0.3378 - acc: 0.8902 - val_loss: 0.3249 - val_acc: 0.8984\n",
      "Epoch 88/100\n",
      "32/32 [==============================] - 0s 9ms/step - loss: 0.3320 - acc: 0.8933 - val_loss: 0.3186 - val_acc: 0.9001\n",
      "Epoch 89/100\n",
      "32/32 [==============================] - 0s 9ms/step - loss: 0.3505 - acc: 0.8907 - val_loss: 0.3181 - val_acc: 0.9014\n",
      "Epoch 90/100\n",
      "32/32 [==============================] - 0s 9ms/step - loss: 0.3293 - acc: 0.8944 - val_loss: 0.3151 - val_acc: 0.9026\n",
      "Epoch 91/100\n",
      "32/32 [==============================] - 0s 9ms/step - loss: 0.3351 - acc: 0.8942 - val_loss: 0.3178 - val_acc: 0.9029\n",
      "Epoch 92/100\n",
      "32/32 [==============================] - 0s 10ms/step - loss: 0.3254 - acc: 0.8949 - val_loss: 0.3227 - val_acc: 0.9001\n",
      "Epoch 93/100\n",
      "32/32 [==============================] - 0s 9ms/step - loss: 0.3214 - acc: 0.8953 - val_loss: 0.3102 - val_acc: 0.9026\n",
      "Epoch 94/100\n",
      "32/32 [==============================] - 0s 9ms/step - loss: 0.3299 - acc: 0.8946 - val_loss: 0.3125 - val_acc: 0.9046\n",
      "Epoch 95/100\n",
      "32/32 [==============================] - 0s 9ms/step - loss: 0.3206 - acc: 0.8967 - val_loss: 0.3188 - val_acc: 0.9011\n",
      "Epoch 96/100\n",
      "32/32 [==============================] - 0s 9ms/step - loss: 0.3274 - acc: 0.8948 - val_loss: 0.3142 - val_acc: 0.9029\n",
      "Epoch 97/100\n",
      "32/32 [==============================] - 0s 9ms/step - loss: 0.3335 - acc: 0.8938 - val_loss: 0.3163 - val_acc: 0.9018\n",
      "Epoch 98/100\n",
      "32/32 [==============================] - 0s 9ms/step - loss: 0.3260 - acc: 0.8948 - val_loss: 0.3264 - val_acc: 0.8990\n",
      "Epoch 99/100\n",
      "32/32 [==============================] - 0s 9ms/step - loss: 0.3244 - acc: 0.8952 - val_loss: 0.3127 - val_acc: 0.9060\n",
      "Epoch 100/100\n",
      "32/32 [==============================] - 0s 10ms/step - loss: 0.3217 - acc: 0.8973 - val_loss: 0.3183 - val_acc: 0.9020\n"
     ]
    }
   ],
   "source": [
    "# corremos el modelo con 100 epocas de entrenamiento de la red y un batch size de 512 que es la cantidad de muestras que se le entregara a la red para que esta entrene\n",
    "\n",
    "history = model.fit(X_train, y_train, epochs=100, batch_size=512, validation_data=(X_val, y_val),callbacks=[early_stop], shuffle=False)\n",
    "\n"
   ]
  },
  {
   "cell_type": "code",
   "execution_count": 353,
   "id": "9d5d7513",
   "metadata": {
    "scrolled": true
   },
   "outputs": [
    {
     "data": {
      "image/png": "[encoded data removed]",
      "text/plain": [
       "<Figure size 1500x500 with 2 Axes>"
      ]
     },
     "metadata": {},
     "output_type": "display_data"
    }
   ],
   "source": [
    "#Adapted from Deep Learning with Python by Francois Chollet, 2018\n",
    "history_dict=history.history\n",
    "loss_values=history_dict['loss']\n",
    "acc_values=history_dict['acc']\n",
    "val_loss_values = history_dict['val_loss']\n",
    "val_acc_values=history_dict['val_acc']\n",
    "epochs=range(1,101)\n",
    "fig,(ax1,ax2)=plt.subplots(1,2,figsize=(15,5))\n",
    "ax1.plot(epochs,loss_values,'co',label='Training Loss')\n",
    "ax1.plot(epochs,val_loss_values,'m', label='Validation Loss')\n",
    "ax1.set_title('Training and validation loss')\n",
    "ax1.set_xlabel('Epochs')\n",
    "ax1.set_ylabel('Loss')\n",
    "ax1.legend()\n",
    "ax2.plot(epochs,acc_values,'co', label='Training accuracy')\n",
    "ax2.plot(epochs,val_acc_values,'m',label='Validation accuracy')\n",
    "ax2.set_title('Training and validation accuracy')\n",
    "ax2.set_xlabel('Epochs')\n",
    "ax2.set_ylabel('Accuracy')\n",
    "ax2.legend()\n",
    "plt.show()"
   ]
  },
  {
   "cell_type": "markdown",
   "id": "dc1be226",
   "metadata": {},
   "source": [
    "**Matriz de confusión**\n",
    "\n",
    "La matriz de confusión muestra un pesimo desempeño con el acento filipino y tiene sentido por que son muy pocos los audios de entrenamiento. Para los demas acentos se oberva un desempeño bastante alto identificando correctamente los acentos "
   ]
  },
  {
   "cell_type": "code",
   "execution_count": 364,
   "id": "62bd7b7d",
   "metadata": {},
   "outputs": [],
   "source": [
    "\n",
    "classes=classes\n",
    "def mostrar_resultados(y_test, pred_y):\n",
    "    conf_matrix = confusion_matrix(y_test, pred_y)\n",
    "    plt.figure(figsize=(8, 8))\n",
    "    sns.heatmap(conf_matrix, xticklabels=classes, yticklabels=classes, annot=True, fmt=\"d\");\n",
    "    plt.title(\"Confusion matrix\")\n",
    "    plt.ylabel('True class')\n",
    "    plt.xlabel('Predicted class')\n",
    "    plt.show()"
   ]
  },
  {
   "cell_type": "code",
   "execution_count": 365,
   "id": "cc08ba45",
   "metadata": {},
   "outputs": [
    {
     "data": {
      "image/png": "[encoded data removed]",
      "text/plain": [
       "<Figure size 800x800 with 2 Axes>"
      ]
     },
     "metadata": {},
     "output_type": "display_data"
    }
   ],
   "source": [
    "mostrar_resultados(y_test, np.argmax(y_pred,axis=1))"
   ]
  },
  {
   "cell_type": "markdown",
   "id": "694111c5",
   "metadata": {},
   "source": [
    "**Accuracy**\n",
    "\n",
    "La exactitud (accuracy) mide el porcentaje de casos que el modelo ha acertado y para este modelo acierta el 99.67% de las veces el cual es un muy buen numero debido a que acierta la mayoria de las veces a pesar de tener 11 diferentes acentos"
   ]
  },
  {
   "cell_type": "code",
   "execution_count": 367,
   "id": "5f2f29db",
   "metadata": {},
   "outputs": [
    {
     "name": "stdout",
     "output_type": "stream",
     "text": [
      "497/497 [==============================] - 0s 874us/step - loss: 0.0406 - acc: 0.9967\n",
      "Test score: 0.04055236652493477\n",
      "Test accuracy: 0.9967271089553833\n",
      "Accuracy: 99.67%\n"
     ]
    }
   ],
   "source": [
    "score, acc = model.evaluate(X_train,y_train)\n",
    "\n",
    "print('Test score:', score)\n",
    "print('Test accuracy:', acc)\n",
    "\n",
    "print(\"Accuracy: {0:.2%}\".format(acc))\n"
   ]
  },
  {
   "cell_type": "markdown",
   "id": "83cb9231",
   "metadata": {},
   "source": [
    "**Reporte de clasificación**\n",
    "\n",
    "La calidad del modelo es muy  precisa con la mayoria de acentos exceptuando el filipino y para el caso del recall con valores muy similares es decir el modelo identifica muy bien los acentos con excepción de nuevo del filipino, El valor F1 se utiliza para combinar las medidas de precision y recall en un sólo valor y tenemos tambien resultados similares y solo con un valor muy bajo para el acento filipino mostrando un modelo suficientemente robusto."
   ]
  },
  {
   "cell_type": "code",
   "execution_count": 370,
   "id": "1779c9fc",
   "metadata": {},
   "outputs": [
    {
     "name": "stdout",
     "output_type": "stream",
     "text": [
      "                     precision    recall  f1-score   support\n",
      "\n",
      "     americacentral       0.90      0.88      0.89       634\n",
      "             andino       0.91      0.89      0.90      1041\n",
      "            canario       0.88      0.96      0.92        47\n",
      "             caribe       0.88      0.93      0.90       520\n",
      "centrosurpeninsular       0.93      0.92      0.93       719\n",
      "            chileno       0.91      0.82      0.87       336\n",
      "          filipinas       0.50      0.33      0.40         6\n",
      "           mexicano       0.91      0.93      0.92      1351\n",
      "    nortepeninsular       0.91      0.93      0.92      1178\n",
      "        rioplatense       0.91      0.91      0.91       867\n",
      "      surpeninsular       0.91      0.90      0.90       363\n",
      "\n",
      "           accuracy                           0.91      7062\n",
      "          macro avg       0.87      0.85      0.86      7062\n",
      "       weighted avg       0.91      0.91      0.91      7062\n",
      "\n"
     ]
    }
   ],
   "source": [
    "\n",
    "print(classification_report(y_test, np.argmax(y_pred,axis=1),target_names=classes))"
   ]
  },
  {
   "cell_type": "code",
   "execution_count": 377,
   "id": "00f6c669",
   "metadata": {},
   "outputs": [
    {
     "name": "stdout",
     "output_type": "stream",
     "text": [
      "Model: \"sequential_56\"\n",
      "_________________________________________________________________\n",
      " Layer (type)                Output Shape              Param #   \n",
      "=================================================================\n",
      " dense_210 (Dense)           (None, 23)                552       \n",
      "                                                                 \n",
      " dropout_162 (Dropout)       (None, 23)                0         \n",
      "                                                                 \n",
      " dense_211 (Dense)           (None, 512)               12288     \n",
      "                                                                 \n",
      " dropout_163 (Dropout)       (None, 512)               0         \n",
      "                                                                 \n",
      " dense_212 (Dense)           (None, 512)               262656    \n",
      "                                                                 \n",
      " dropout_164 (Dropout)       (None, 512)               0         \n",
      "                                                                 \n",
      " dense_213 (Dense)           (None, 256)               131328    \n",
      "                                                                 \n",
      " dropout_165 (Dropout)       (None, 256)               0         \n",
      "                                                                 \n",
      " dense_214 (Dense)           (None, 11)                2827      \n",
      "                                                                 \n",
      "=================================================================\n",
      "Total params: 409,651\n",
      "Trainable params: 409,651\n",
      "Non-trainable params: 0\n",
      "_________________________________________________________________\n"
     ]
    }
   ],
   "source": [
    "model.summary()"
   ]
  },
  {
   "cell_type": "markdown",
   "id": "e7e67785",
   "metadata": {},
   "source": [
    "**Resumen del modelo**\n",
    "\n",
    "El modelo usa un total de 409651 parametros, entrenado con 100 epocas evitando el sobre ajuste y de igual manera realizando early stopping y usando varios dropout en las diferentes capas, asi como 512 muestras que se le entregan a la red para entrenamiento.\n",
    "\n",
    "En la arquitectura tenemos una capa con las 23 variables como variable input y con 23 neuronas y con una función de activación relu, las siguientes 2 capas 512 neuronas y activación relu y usando dropout para evitar sobreajuste, posteriormente otra capa con 256 neuronas y activación relu tambien con un dropout y por ultimo una capa densa con 11 neuronas que genera los 11 acentos en los que el modelo clasifica las grabaciones de audio y se usa una función de activación softmax\n",
    "\n",
    "**Resultados del modelo**\n",
    "\n",
    "El modelo presenta un muy buen desempeño con 10 de los 11 acentos,encontrando un desempeño bajo con el acento filipino debido a los pocos audios de entrenamiento. Para todos los demas el modelo identifica muy bien los diferentes acentos como los muestran las metricas del accuracy 99.67%, recall 82-92% f1 score 87-93%\n",
    "\n",
    "**Recomendaciones**\n",
    "\n",
    "Se recomienda realizar realizar este modelo con un data set mas robusto con muchos mas audios para entrenamiento y de esta manera mejorar las metricas para el caso principalmente del acento filipino.\n",
    "\n",
    "Se recomienda evaluar el modelo con grabaciones propias y crear una aplicación para probar con diferentes personas la calidad del modelo predictivo."
   ]
  },
  {
   "cell_type": "code",
   "execution_count": 378,
   "id": "283a39d5",
   "metadata": {},
   "outputs": [
    {
     "name": "stderr",
     "output_type": "stream",
     "text": [
      "2023-05-28 13:05:13.559454: W tensorflow/python/util/util.cc:368] Sets are not currently considered sequences, but this may change in the future, so consider avoiding using them.\n"
     ]
    },
    {
     "name": "stdout",
     "output_type": "stream",
     "text": [
      "INFO:tensorflow:Assets written to: ram://4daf186c-4b31-44ba-b977-c513b78628cc/assets\n"
     ]
    },
    {
     "data": {
      "text/plain": [
       "['modelo_acentos.sav']"
      ]
     },
     "execution_count": 378,
     "metadata": {},
     "output_type": "execute_result"
    }
   ],
   "source": [
    "import joblib\n",
    "# se guarda el modelo\n",
    "filename = 'modelo_acentos.sav'\n",
    "joblib.dump(model, filename)"
   ]
  },
  {
   "cell_type": "code",
   "execution_count": null,
   "id": "821e1cb4",
   "metadata": {},
   "outputs": [],
   "source": []
  }
 ],
 "metadata": {
  "kernelspec": {
   "display_name": "maq",
   "language": "python",
   "name": "myenv"
  },
  "language_info": {
   "codemirror_mode": {
    "name": "ipython",
    "version": 3
   },
   "file_extension": ".py",
   "mimetype": "text/x-python",
   "name": "python",
   "nbconvert_exporter": "python",
   "pygments_lexer": "ipython3",
   "version": "3.9.16"
  }
 },
 "nbformat": 4,
 "nbformat_minor": 5
}
